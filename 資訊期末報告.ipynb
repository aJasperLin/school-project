{
  "nbformat": 4,
  "nbformat_minor": 0,
  "metadata": {
    "colab": {
      "name": "資訊期末報告.ipynb",
      "provenance": []
    },
    "kernelspec": {
      "name": "python3",
      "display_name": "Python 3"
    },
    "language_info": {
      "name": "python"
    }
  },
  "cells": [
    {
      "cell_type": "code",
      "execution_count": 1,
      "metadata": {
        "colab": {
          "base_uri": "https://localhost:8080/"
        },
        "id": "i_SDNrovYC4C",
        "outputId": "94103369-39df-47a4-c499-15eafebc5c76"
      },
      "outputs": [
        {
          "output_type": "stream",
          "name": "stdout",
          "text": [
            "Downloading data from https://storage.googleapis.com/tensorflow/keras-applications/vgg19/vgg19_weights_tf_dim_ordering_tf_kernels_notop.h5\n",
            "80142336/80134624 [==============================] - 1s 0us/step\n",
            "80150528/80134624 [==============================] - 1s 0us/step\n",
            "Model: \"model\"\n",
            "_________________________________________________________________\n",
            " Layer (type)                Output Shape              Param #   \n",
            "=================================================================\n",
            " input_2 (InputLayer)        [(None, 224, 224, 3)]     0         \n",
            "                                                                 \n",
            " vgg19 (Functional)          (None, 7, 7, 512)         20024384  \n",
            "                                                                 \n",
            " global_average_pooling2d (G  (None, 512)              0         \n",
            " lobalAveragePooling2D)                                          \n",
            "                                                                 \n",
            " dense (Dense)               (None, 1)                 513       \n",
            "                                                                 \n",
            "=================================================================\n",
            "Total params: 20,024,897\n",
            "Trainable params: 513\n",
            "Non-trainable params: 20,024,384\n",
            "_________________________________________________________________\n"
          ]
        }
      ],
      "source": [
        "from tensorflow import keras\n",
        "size = 224\n",
        "base_model = keras.applications.VGG19(weights='imagenet', input_shape=(size, size, 3), include_top=False)\n",
        "base_model.trainable = False\n",
        "\n",
        "inputs = keras.Input(shape=(size, size, 3))\n",
        "x = base_model(inputs, training=False)\n",
        "x = keras.layers.GlobalAveragePooling2D()(x)\n",
        "outputs = keras.layers.Dense(1)(x)\n",
        "model = keras.Model(inputs, outputs)\n",
        "                    \n",
        "model.summary()"
      ]
    },
    {
      "cell_type": "code",
      "source": [
        "model.compile(loss=keras.losses.BinaryCrossentropy(from_logits=True), metrics=[keras.metrics.BinaryAccuracy()])"
      ],
      "metadata": {
        "id": "ihxsKQbOYSuc"
      },
      "execution_count": 2,
      "outputs": []
    },
    {
      "cell_type": "code",
      "source": [
        "from tensorflow.keras.preprocessing.image import ImageDataGenerator\n",
        "datagen = ImageDataGenerator(samplewise_center=True,\n",
        "                rotation_range=10,\n",
        "                zoom_range=0.2,\n",
        "                width_shift_range=0.2,\n",
        "                height_shift_range=0.2,\n",
        "                horizontal_flip=True,\n",
        "                vertical_flip=True)"
      ],
      "metadata": {
        "id": "_hOrrMXzYVFe"
      },
      "execution_count": 3,
      "outputs": []
    },
    {
      "cell_type": "code",
      "source": [
        "train_it = datagen.flow_from_directory('train',\n",
        "                     target_size=(224, 224),\n",
        "                     color_mode='rgb',\n",
        "                     batch_size=6)\n",
        "\n",
        "valid_it = datagen.flow_from_directory('valid',\n",
        "                     target_size=(224, 224),\n",
        "                     color_mode='rgb',\n",
        "                     batch_size=6)"
      ],
      "metadata": {
        "id": "FzZoJQX3YXd1"
      },
      "execution_count": null,
      "outputs": []
    },
    {
      "cell_type": "code",
      "source": [
        "model.fit(train_it,steps_per_epoch=train_it.samples/train_it.batch_size,\n",
        "     validation_data=valid_it, validation_steps=valid_it.samples/valid_it.batch_size,\n",
        "     epochs=20)"
      ],
      "metadata": {
        "id": "NPK8g8lGYZqF"
      },
      "execution_count": null,
      "outputs": []
    },
    {
      "cell_type": "code",
      "source": [
        "base_model.trainable = True\n",
        "model.compile(optimizer=keras.optimizers.RMSprop(learning_rate = 0.00001),\n",
        "       loss=keras.losses.BinaryCrossentropy(from_logits=True),\n",
        "       metrics=[keras.metrics.BinaryAccuracy()])"
      ],
      "metadata": {
        "id": "gfA8JgQGYheN"
      },
      "execution_count": null,
      "outputs": []
    },
    {
      "cell_type": "code",
      "source": [
        "model.fit(train_it,steps_per_epoch=train_it.samples/train_it.batch_size,\n",
        "     validation_data=valid_it, validation_steps=valid_it.samples/valid_it.batch_size,\n",
        "     epochs=20)"
      ],
      "metadata": {
        "id": "uUtFCRW-Yknc"
      },
      "execution_count": null,
      "outputs": []
    },
    {
      "cell_type": "code",
      "source": [
        "import matplotlib.pyplot as plt\n",
        "import matplotlib.image as mpimg\n",
        "from tensorflow.keras.preprocessing import image as image_utils\n",
        "from tensorflow.keras.applications.imagenet_utils import preprocess_input\n",
        "\n",
        "def show_image(image_path):\n",
        "    image = mpimg.imread(image_path)\n",
        "    plt.imshow(image)\n",
        "\n",
        "def make_predictions(image_path):\n",
        "    show_image(image_path)\n",
        "    image = image_utils.load_img(image_path, target_size=(224, 224))\n",
        "    image = image_utils.img_to_array(image)\n",
        "    image = image.reshape(1,224,224,3)\n",
        "    image = preprocess_input(image)\n",
        "    preds = model.predict(image)\n",
        "    return preds\n",
        "    \n",
        "def foreign_object_detector(image_path):\n",
        "    preds = make_predictions(image_path)\n",
        "    if preds[0] < 0:\n",
        "        print(\"道路順暢 沒有障礙\")\n",
        "    else:\n",
        "        print(\"小心!!前方有障礙\")"
      ],
      "metadata": {
        "id": "OY3uVa8yYnYN"
      },
      "execution_count": null,
      "outputs": []
    },
    {
      "cell_type": "code",
      "source": [
        "foreign_object_detector(\"valid/只有路/道路照片 - Google 搜尋 5.png\")"
      ],
      "metadata": {
        "id": "OYhr91sGYpC-"
      },
      "execution_count": null,
      "outputs": []
    }
  ]
}